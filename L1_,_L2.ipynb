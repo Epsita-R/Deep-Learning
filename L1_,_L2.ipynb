{
  "nbformat": 4,
  "nbformat_minor": 0,
  "metadata": {
    "colab": {
      "provenance": [],
      "authorship_tag": "ABX9TyM63XNcG5qS2e9UL6f9toR5",
      "include_colab_link": true
    },
    "kernelspec": {
      "name": "python3",
      "display_name": "Python 3"
    },
    "language_info": {
      "name": "python"
    }
  },
  "cells": [
    {
      "cell_type": "markdown",
      "metadata": {
        "id": "view-in-github",
        "colab_type": "text"
      },
      "source": [
        "<a href=\"https://colab.research.google.com/github/Epsita-R/Deep-Learning/blob/main/L1_%2C_L2.ipynb\" target=\"_parent\"><img src=\"https://colab.research.google.com/assets/colab-badge.svg\" alt=\"Open In Colab\"/></a>"
      ]
    },
    {
      "cell_type": "code",
      "execution_count": 3,
      "metadata": {
        "colab": {
          "base_uri": "https://localhost:8080/"
        },
        "id": "6x7yWWaifSKZ",
        "outputId": "260f0de2-bd24-4cb7-8aa2-44d8b322dbad"
      },
      "outputs": [
        {
          "output_type": "stream",
          "name": "stdout",
          "text": [
            "Input vector: [1 2 2 1]\n",
            "Desired output: 2\n",
            "Actual output: 1.5\n",
            "L1 regularization loss: 0.1\n",
            "L2 regularization loss: 0.0125\n",
            "Elastic Net regularization loss (alpha=0.5): 0.05625\n"
          ]
        }
      ],
      "source": [
        "import numpy as np\n",
        "\n",
        "def output(w, x):\n",
        "  return np.dot(w, x)\n",
        "\n",
        "def l1_loss(w, reg):\n",
        "  return reg * np.sum(np.abs(w))\n",
        "\n",
        "def l2_loss(w, reg):\n",
        "  return 0.5 * reg * np.sum(w**2)\n",
        "\n",
        "def net_loss(w, reg, alpha):\n",
        "  return reg * (alpha * np.sum(np.abs(w)) + (1 - alpha) * 0.5 * np.sum(w**2))\n",
        "\n",
        "x = np.array([1, 2, 2, 1])\n",
        "desired_output = 2\n",
        "\n",
        "w = np.array([0.25, 0.25, 0.25, 0.25])\n",
        "\n",
        "reg = 0.1\n",
        "actual_output = output(w, x)\n",
        "\n",
        "# Calculate losses for each regularization technique\n",
        "l11_loss = l1_loss(w, reg)\n",
        "l22_loss = l2_loss(w, reg)\n",
        "elastic_net_loss = net_loss(w, reg, 0.5)\n",
        "\n",
        "# Print the results\n",
        "print(\"Input vector:\", x)\n",
        "print(\"Desired output:\", desired_output)\n",
        "print(\"Actual output:\", actual_output)\n",
        "print(\"L1 regularization loss:\", l11_loss)\n",
        "print(\"L2 regularization loss:\", l22_loss)\n",
        "print(\"Elastic regularization loss (alpha=0.5):\", elastic_net_loss)"
      ]
    }
  ]
}