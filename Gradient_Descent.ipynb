{
  "nbformat": 4,
  "nbformat_minor": 0,
  "metadata": {
    "colab": {
      "provenance": [],
      "authorship_tag": "ABX9TyPRoZb/Jq7LELIRZE+uZPYe",
      "include_colab_link": true
    },
    "kernelspec": {
      "name": "python3",
      "display_name": "Python 3"
    },
    "language_info": {
      "name": "python"
    }
  },
  "cells": [
    {
      "cell_type": "markdown",
      "metadata": {
        "id": "view-in-github",
        "colab_type": "text"
      },
      "source": [
        "<a href=\"https://colab.research.google.com/github/Epsita-R/Deep-Learning/blob/main/Gradient_Descent.ipynb\" target=\"_parent\"><img src=\"https://colab.research.google.com/assets/colab-badge.svg\" alt=\"Open In Colab\"/></a>"
      ]
    },
    {
      "cell_type": "code",
      "execution_count": 3,
      "metadata": {
        "colab": {
          "base_uri": "https://localhost:8080/"
        },
        "id": "6w8sqLcugvEC",
        "outputId": "f840b853-c14b-4869-98f2-2bee72a031bd"
      },
      "outputs": [
        {
          "output_type": "stream",
          "name": "stdout",
          "text": [
            "Epoch: 1, Output: 0.4958, Error: 0.2542\n",
            "Epoch: 2, Output: 0.4916, Error: 0.2584\n"
          ]
        }
      ],
      "source": [
        "import numpy as np\n",
        "\n",
        "def sigmoid(x):\n",
        "  return 1 / (1 + np.exp(-x))\n",
        "\n",
        "def forward_pass(x, w1, w2, w3, b1, b2, b3):\n",
        "  z1 = w1 * x + b1\n",
        "  a1 = sigmoid(z1)\n",
        "  z2 = w2 * a1 + b2\n",
        "  a2 = sigmoid(z2)\n",
        "  z3 = w3 * a2 + b3\n",
        "  y = sigmoid(z3)\n",
        "  return a1, a2, y\n",
        "\n",
        "def update_weights(x, target, w1, w2, w3, b1, b2, b3, learning_rate):\n",
        "  a1, a2, y = forward_pass(x, w1, w2, w3, b1, b2, b3)\n",
        "\n",
        "  output = (y - target) * y * (1 - y)\n",
        "  hidden2 = output * w3 * a2 * (1 - a2)\n",
        "  hidden1 = hidden2 * w2 * a1 * (1 - a1)\n",
        "\n",
        "  w1_update = learning_rate * hidden1 * x\n",
        "  w2_update = learning_rate * hidden2 * a1\n",
        "  w3_update = learning_rate * output * a2\n",
        "  b1_update = learning_rate * hidden1\n",
        "  b2_update = learning_rate * hidden2\n",
        "  b3_update = learning_rate * output\n",
        "\n",
        "  return w1 + w1_update, w2 + w2_update, w3 + w3_update, b1 + b1_update, b2 + b2_update, b3 + b3_update\n",
        "\n",
        "# Set initial values\n",
        "x = 0.5\n",
        "w1, w2, w3 = 1, 1, 1\n",
        "b1, b2, b3 = -0.5, -0.5, -0.5\n",
        "target = 1\n",
        "learning_rate = 0.1\n",
        "\n",
        "for epoch in range(2):\n",
        "  w1, w2, w3, b1, b2, b3 = update_weights(x, target, w1, w2, w3, b1, b2, b3, learning_rate)\n",
        "\n",
        "  a1, a2, y = forward_pass(x, w1, w2, w3, b1, b2, b3)\n",
        "  print(f\"Epoch: {epoch+1}, Output: {y:.4f}, Error: {(target - y)**2:.4f}\")"
      ]
    }
  ]
}