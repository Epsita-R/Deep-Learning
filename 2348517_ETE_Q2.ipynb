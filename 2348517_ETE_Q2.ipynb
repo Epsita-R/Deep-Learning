{
  "cells": [
    {
      "cell_type": "markdown",
      "metadata": {
        "id": "view-in-github",
        "colab_type": "text"
      },
      "source": [
        "<a href=\"https://colab.research.google.com/github/Epsita-R/Deep-Learning/blob/main/2348517_ETE_Q2.ipynb\" target=\"_parent\"><img src=\"https://colab.research.google.com/assets/colab-badge.svg\" alt=\"Open In Colab\"/></a>"
      ]
    },
    {
      "cell_type": "code",
      "execution_count": null,
      "id": "7af7e5c9-ce71-4b19-8fbb-000716630480",
      "metadata": {
        "id": "7af7e5c9-ce71-4b19-8fbb-000716630480"
      },
      "outputs": [],
      "source": [
        "# import necessary libraries\n",
        "\n",
        "import pandas as pd\n",
        "import numpy as np\n",
        "import os\n",
        "import glob as gb\n",
        "import matplotlib.pyplot as plt\n",
        "import matplotlib.image as mpimg\n",
        "\n",
        "import tensorflow as tf\n",
        "from keras import layers, callbacks\n",
        "from keras.layers import *\n",
        "from keras.models import *\n",
        "from keras.callbacks import ModelCheckpoint, EarlyStopping\n",
        "from keras.preprocessing import image\n",
        "\n",
        "from tensorflow.keras.preprocessing.image import ImageDataGenerator\n",
        "from keras import Sequential\n",
        "from keras.optimizers import RMSprop"
      ]
    },
    {
      "cell_type": "code",
      "execution_count": null,
      "id": "0eb0b131-8dcb-4288-8c91-f9189c5a94c5",
      "metadata": {
        "id": "0eb0b131-8dcb-4288-8c91-f9189c5a94c5"
      },
      "outputs": [],
      "source": [
        "# loading dataset\n",
        "\n",
        "trainpath = \"C:\\\\Users\\\\Epsita\\\\OneDrive\\\\Desktop\\\\DL\\\\Dataset\\\\lab2cia2\\\\MY_data\\\\train\"\n",
        "testpath = \"C:\\\\Users\\\\Epsita\\\\OneDrive\\\\Desktop\\\\DL\\\\Dataset\\\\lab2cia2\\\\MY_data\\\\test\"\n",
        "predpath = \"C:\\\\Users\\\\Epsita\\\\OneDrive\\\\Desktop\\\\DL\\\\Dataset\\\\lab2cia2\\\\MY_data\\\\predict\""
      ]
    },
    {
      "cell_type": "code",
      "execution_count": null,
      "id": "384a0ccc-5aef-4a26-84f4-d62a9df45290",
      "metadata": {
        "id": "384a0ccc-5aef-4a26-84f4-d62a9df45290",
        "outputId": "1144ff94-48ec-4f95-bd9e-30ae86047b73"
      },
      "outputs": [
        {
          "name": "stdout",
          "output_type": "stream",
          "text": [
            "For training data, found 230 images in folder Apple\n",
            "For training data, found 230 images in folder avocado\n",
            "For training data, found 230 images in folder Banana\n",
            "For training data, found 230 images in folder cherry\n",
            "For training data, found 230 images in folder kiwi\n",
            "For training data, found 231 images in folder mango\n",
            "For training data, found 230 images in folder orange\n",
            "For training data, found 230 images in folder pinenapple\n",
            "For training data, found 230 images in folder strawberries\n",
            "For training data, found 230 images in folder watermelon\n"
          ]
        }
      ],
      "source": [
        "for folder in os.listdir(trainpath):\n",
        "    files = gb.glob(pathname=str(trainpath + \"/\" + folder + \"/*.jpeg\"))\n",
        "    print(f\"For training data, found {len(files)} images in folder {folder}\")"
      ]
    },
    {
      "cell_type": "code",
      "execution_count": null,
      "id": "dac9d909-abfa-47a0-b6eb-7d6036aca905",
      "metadata": {
        "id": "dac9d909-abfa-47a0-b6eb-7d6036aca905",
        "outputId": "5b50a910-120c-4dc3-edcd-2f3de93fbeaf"
      },
      "outputs": [
        {
          "name": "stdout",
          "output_type": "stream",
          "text": [
            "For testing data, found 89 images in folder apple\n",
            "For testing data, found 105 images in folder avocado\n",
            "For testing data, found 106 images in folder banana\n",
            "For testing data, found 105 images in folder cherry\n",
            "For testing data, found 105 images in folder kiwi\n",
            "For testing data, found 105 images in folder mango\n",
            "For testing data, found 97 images in folder orange\n",
            "For testing data, found 105 images in folder pinenapple\n",
            "For testing data, found 103 images in folder stawberries\n",
            "For testing data, found 105 images in folder watermelon\n"
          ]
        }
      ],
      "source": [
        "for folder in os.listdir(testpath):\n",
        "    files = gb.glob(pathname=str(testpath + \"/\" + folder + \"/*.jpeg\"))\n",
        "    print(f\"For testing data, found {len(files)} images in folder {folder}\")"
      ]
    },
    {
      "cell_type": "code",
      "execution_count": null,
      "id": "0724b4ef-a264-4395-8c68-8c3aa0c7cab9",
      "metadata": {
        "id": "0724b4ef-a264-4395-8c68-8c3aa0c7cab9",
        "outputId": "28f43e61-377c-49e8-b7e1-f5a2ce3cab11"
      },
      "outputs": [
        {
          "name": "stdout",
          "output_type": "stream",
          "text": [
            "48\n"
          ]
        }
      ],
      "source": [
        "files = gb.glob(pathname=str(predpath+\"/*.jpeg\"))\n",
        "print(len(files))"
      ]
    },
    {
      "cell_type": "code",
      "execution_count": null,
      "id": "b83c82fa-0712-44ac-8ba4-820a97369ee8",
      "metadata": {
        "id": "b83c82fa-0712-44ac-8ba4-820a97369ee8",
        "outputId": "d8e5ef93-c7d8-4615-a783-94c76b222711"
      },
      "outputs": [
        {
          "data": {
            "text/plain": [
              "'0:Apple,1:Banana,2:avocado,3:cherry,4:kiwi,5:mango,6:orange,7:pinenapple,8:strawberries,9:watermelon'"
            ]
          },
          "execution_count": 17,
          "metadata": {},
          "output_type": "execute_result"
        }
      ],
      "source": [
        "classes=sorted(os.listdir(trainpath))\n",
        "\",\".join([f\"{i}:{c}\" for i,c in enumerate(classes)])"
      ]
    },
    {
      "cell_type": "code",
      "execution_count": null,
      "id": "ce9f9cee-84d9-42c9-98d8-3eb3cdd33bc6",
      "metadata": {
        "id": "ce9f9cee-84d9-42c9-98d8-3eb3cdd33bc6",
        "outputId": "f429aec7-3e2f-428e-b432-a1f52f87cbb7"
      },
      "outputs": [
        {
          "name": "stdout",
          "output_type": "stream",
          "text": [
            "Found 1841 images belonging to 10 classes.\n",
            "Found 460 images belonging to 10 classes.\n",
            "Found 1025 images belonging to 10 classes.\n"
          ]
        }
      ],
      "source": [
        "# Data augmentation\n",
        "\n",
        "TRAINING_DIR = trainpath\n",
        "TESTING_DIR = testpath\n",
        "\n",
        "train_datagen = ImageDataGenerator(\n",
        "        rotation_range=15,\n",
        "        shear_range=0.2,\n",
        "        zoom_range=0.2,\n",
        "        horizontal_flip=True,\n",
        "        fill_mode='nearest',\n",
        "        width_shift_range=0.1,\n",
        "        height_shift_range=0.1,\n",
        "        rescale=1./255,\n",
        "        validation_split=0.2\n",
        "    )\n",
        "\n",
        "\n",
        "testing_datagen = ImageDataGenerator(\n",
        "        rotation_range=15,\n",
        "        shear_range=0.2,\n",
        "        zoom_range=0.2,\n",
        "        horizontal_flip=True,\n",
        "        fill_mode='nearest',\n",
        "        width_shift_range=0.1,\n",
        "        height_shift_range=0.1,\n",
        "        rescale=1./255\n",
        "    )\n",
        "\n",
        "train_generator = train_datagen.flow_from_directory(\n",
        "    TRAINING_DIR,\n",
        "    classes=classes,\n",
        "    color_mode=\"rgb\",\n",
        "    batch_size=64,\n",
        "    target_size=(256,256),\n",
        "    class_mode=\"categorical\",\n",
        "    subset=\"training\"\n",
        ")\n",
        "\n",
        "\n",
        "validation_generator = train_datagen.flow_from_directory(\n",
        "    TRAINING_DIR,\n",
        "    classes=classes,\n",
        "    color_mode=\"rgb\",\n",
        "    batch_size=64,\n",
        "    target_size=(256,256),\n",
        "    class_mode=\"categorical\",\n",
        "    subset=\"validation\"\n",
        ")\n",
        "\n",
        "testing_generator = train_datagen.flow_from_directory(\n",
        "    TESTING_DIR,\n",
        "    classes=list(map(lambda x:x.lower().replace(\"strawberries\",\"stawberries\"),classes)),\n",
        "    color_mode=\"rgb\",\n",
        "    batch_size=64,\n",
        "    target_size=(256,256),\n",
        "    class_mode=\"categorical\"\n",
        ")"
      ]
    },
    {
      "cell_type": "code",
      "execution_count": null,
      "id": "3574ea95-fff7-428a-8f7d-3e8590ce4555",
      "metadata": {
        "id": "3574ea95-fff7-428a-8f7d-3e8590ce4555"
      },
      "outputs": [],
      "source": [
        "# Customized CNN Architecture\n",
        "\n",
        "model = tf.keras.models.Sequential([\n",
        "    layers.RandomRotation(0.1, input_shape=(256,256,3)),\n",
        "    layers.RandomZoom(0.1),\n",
        "    layers.RandomFlip(),\n",
        "    layers.GaussianNoise(0.03),\n",
        "\n",
        "    layers.Conv2D(32, 3, activation='relu'),\n",
        "    layers.BatchNormalization(),\n",
        "    layers.MaxPooling2D(4),\n",
        "    layers.Conv2D(64, 3,  activation='relu'),\n",
        "    layers.BatchNormalization(),\n",
        "    layers.MaxPooling2D(4),\n",
        "    layers.Conv2D(128, 4,  activation='relu'),\n",
        "    layers.BatchNormalization(),\n",
        "    layers.MaxPooling2D(4),\n",
        "    layers.Flatten(),\n",
        "\n",
        "    #Dense portion, with high dropout rate for high regularization\n",
        "    layers.Dense(128, activation='relu'),\n",
        "    layers.BatchNormalization(),\n",
        "    layers.Dropout(0.5),\n",
        "    layers.Dense(64, activation='relu'),\n",
        "    layers.BatchNormalization(),\n",
        "    layers.Dropout(0.3),\n",
        "    tf.keras.layers.Dense(len(classes), activation='softmax')\n",
        "])\n",
        "\n",
        "model.compile(optimizer=tf.keras.optimizers.Adam(learning_rate=0.005),\n",
        "              loss=tf.keras.losses.CategoricalCrossentropy(),\n",
        "              metrics=['accuracy'])\n",
        "\n",
        "callback_list=[\n",
        "    callbacks.EarlyStopping(monitor=\"val_accuracy\", patience=10, restore_best_weights=True),\n",
        "    callbacks.ReduceLROnPlateau(factor=0.8, monitor=\"val_accuracy\", patience=3)\n",
        "]\n"
      ]
    },
    {
      "cell_type": "code",
      "execution_count": null,
      "id": "111a2c4e-9de2-42c3-b968-b45416cf2505",
      "metadata": {
        "id": "111a2c4e-9de2-42c3-b968-b45416cf2505",
        "outputId": "ea9cc8a2-f8c3-45cc-b1f5-ec60ab8386b8"
      },
      "outputs": [
        {
          "name": "stdout",
          "output_type": "stream",
          "text": [
            "Epoch 1/10\n",
            "\u001b[1m29/29\u001b[0m \u001b[32m━━━━━━━━━━━━━━━━━━━━\u001b[0m\u001b[37m\u001b[0m \u001b[1m79s\u001b[0m 2s/step - accuracy: 0.2819 - loss: 1.7677 - val_accuracy: 0.3391 - val_loss: 1.6120 - learning_rate: 0.0050\n",
            "Epoch 2/10\n",
            "\u001b[1m29/29\u001b[0m \u001b[32m━━━━━━━━━━━━━━━━━━━━\u001b[0m\u001b[37m\u001b[0m \u001b[1m73s\u001b[0m 2s/step - accuracy: 0.2758 - loss: 1.6711 - val_accuracy: 0.2935 - val_loss: 1.6332 - learning_rate: 0.0050\n",
            "Epoch 3/10\n",
            "\u001b[1m29/29\u001b[0m \u001b[32m━━━━━━━━━━━━━━━━━━━━\u001b[0m\u001b[37m\u001b[0m \u001b[1m70s\u001b[0m 2s/step - accuracy: 0.2918 - loss: 1.6657 - val_accuracy: 0.3239 - val_loss: 1.6206 - learning_rate: 0.0050\n",
            "Epoch 4/10\n",
            "\u001b[1m29/29\u001b[0m \u001b[32m━━━━━━━━━━━━━━━━━━━━\u001b[0m\u001b[37m\u001b[0m \u001b[1m60s\u001b[0m 2s/step - accuracy: 0.3044 - loss: 1.7044 - val_accuracy: 0.3370 - val_loss: 1.5906 - learning_rate: 0.0050\n",
            "Epoch 5/10\n",
            "\u001b[1m29/29\u001b[0m \u001b[32m━━━━━━━━━━━━━━━━━━━━\u001b[0m\u001b[37m\u001b[0m \u001b[1m61s\u001b[0m 2s/step - accuracy: 0.3201 - loss: 1.6542 - val_accuracy: 0.3109 - val_loss: 1.5672 - learning_rate: 0.0040\n",
            "Epoch 6/10\n",
            "\u001b[1m29/29\u001b[0m \u001b[32m━━━━━━━━━━━━━━━━━━━━\u001b[0m\u001b[37m\u001b[0m \u001b[1m66s\u001b[0m 2s/step - accuracy: 0.3129 - loss: 1.6028 - val_accuracy: 0.3152 - val_loss: 1.5944 - learning_rate: 0.0040\n",
            "Epoch 7/10\n",
            "\u001b[1m29/29\u001b[0m \u001b[32m━━━━━━━━━━━━━━━━━━━━\u001b[0m\u001b[37m\u001b[0m \u001b[1m64s\u001b[0m 2s/step - accuracy: 0.3252 - loss: 1.6514 - val_accuracy: 0.3196 - val_loss: 1.5425 - learning_rate: 0.0040\n",
            "Epoch 8/10\n",
            "\u001b[1m29/29\u001b[0m \u001b[32m━━━━━━━━━━━━━━━━━━━━\u001b[0m\u001b[37m\u001b[0m \u001b[1m66s\u001b[0m 2s/step - accuracy: 0.3397 - loss: 1.5862 - val_accuracy: 0.3957 - val_loss: 1.5095 - learning_rate: 0.0032\n",
            "Epoch 9/10\n",
            "\u001b[1m29/29\u001b[0m \u001b[32m━━━━━━━━━━━━━━━━━━━━\u001b[0m\u001b[37m\u001b[0m \u001b[1m72s\u001b[0m 2s/step - accuracy: 0.3535 - loss: 1.5532 - val_accuracy: 0.3609 - val_loss: 1.5693 - learning_rate: 0.0032\n",
            "Epoch 10/10\n",
            "\u001b[1m29/29\u001b[0m \u001b[32m━━━━━━━━━━━━━━━━━━━━\u001b[0m\u001b[37m\u001b[0m \u001b[1m62s\u001b[0m 2s/step - accuracy: 0.3394 - loss: 1.6443 - val_accuracy: 0.3696 - val_loss: 1.5620 - learning_rate: 0.0032\n"
          ]
        }
      ],
      "source": [
        "history = model.fit(train_generator,\n",
        "                    validation_data=validation_generator,\n",
        "                    epochs=10,\n",
        "                    verbose=1,\n",
        "                    callbacks=callback_list)"
      ]
    },
    {
      "cell_type": "code",
      "execution_count": null,
      "id": "9aba2456-9771-4329-895f-2f0b787b2ac1",
      "metadata": {
        "id": "9aba2456-9771-4329-895f-2f0b787b2ac1",
        "outputId": "69b91325-9ca9-42c4-df78-13f14be154e2"
      },
      "outputs": [
        {
          "data": {
            "image/png": "[encoded data removed]",
            "text/plain": [
              "<Figure size 640x480 with 1 Axes>"
            ]
          },
          "metadata": {},
          "output_type": "display_data"
        },
        {
          "data": {
            "image/png": "[encoded data removed]",
            "text/plain": [
              "<Figure size 640x480 with 1 Axes>"
            ]
          },
          "metadata": {},
          "output_type": "display_data"
        }
      ],
      "source": [
        "acc=history.history['accuracy']\n",
        "val_acc=history.history['val_accuracy']\n",
        "loss=history.history['loss']\n",
        "val_loss=history.history['val_loss']\n",
        "\n",
        "epochs=range(len(acc))\n",
        "\n",
        "plt.plot(epochs, acc, 'bo', label='Training accuracy')\n",
        "plt.plot(epochs, val_acc, 'b', label='Validation accuracy')\n",
        "plt.title('Training and validation accuracy')\n",
        "plt.figure()\n",
        "\n",
        "plt.plot(epochs, loss, 'bo', label='Training Loss')\n",
        "plt.plot(epochs, val_loss, 'b', label='Validation Loss')\n",
        "plt.title('Training and validation loss')\n",
        "plt.legend()\n",
        "plt.show()"
      ]
    },
    {
      "cell_type": "code",
      "execution_count": null,
      "id": "d217db52-87f9-4997-b302-6da0da358e1e",
      "metadata": {
        "id": "d217db52-87f9-4997-b302-6da0da358e1e",
        "outputId": "bf9de5f7-0f52-4fc5-88d9-66f46c7a3216"
      },
      "outputs": [
        {
          "name": "stdout",
          "output_type": "stream",
          "text": [
            "\u001b[1m17/17\u001b[0m \u001b[32m━━━━━━━━━━━━━━━━━━━━\u001b[0m\u001b[37m\u001b[0m \u001b[1m20s\u001b[0m 1s/step - accuracy: 0.3690 - loss: 1.5458\n"
          ]
        },
        {
          "data": {
            "text/plain": [
              "[1.5668244361877441, 0.3668292760848999]"
            ]
          },
          "execution_count": 25,
          "metadata": {},
          "output_type": "execute_result"
        }
      ],
      "source": [
        "model.evaluate(testing_generator)"
      ]
    },
    {
      "cell_type": "code",
      "execution_count": null,
      "id": "ed2de34e-4712-4392-96ff-b8191ce2ead5",
      "metadata": {
        "id": "ed2de34e-4712-4392-96ff-b8191ce2ead5",
        "outputId": "d8043a75-958f-47bb-c84d-d54fd96d6845"
      },
      "outputs": [
        {
          "name": "stdout",
          "output_type": "stream",
          "text": [
            "\u001b[1m8/8\u001b[0m \u001b[32m━━━━━━━━━━━━━━━━━━━━\u001b[0m\u001b[37m\u001b[0m \u001b[1m8s\u001b[0m 1s/step - accuracy: 0.3954 - loss: 1.4742\n"
          ]
        },
        {
          "data": {
            "text/plain": [
              "[1.5068970918655396, 0.4108695685863495]"
            ]
          },
          "execution_count": 26,
          "metadata": {},
          "output_type": "execute_result"
        }
      ],
      "source": [
        "model.evaluate(validation_generator)"
      ]
    },
    {
      "cell_type": "code",
      "execution_count": null,
      "id": "dc63e1da-b31a-47c7-9501-fff1ac55dc8f",
      "metadata": {
        "id": "dc63e1da-b31a-47c7-9501-fff1ac55dc8f"
      },
      "outputs": [],
      "source": [
        "# VGG16\n",
        "from tensorflow.keras.applications import VGG16\n",
        "from tensorflow.keras import layers, models, optimizers\n",
        "from tensorflow.keras.callbacks import EarlyStopping, ReduceLROnPlateau\n",
        "\n",
        "# Load the pre-trained VGG16 model with weights from ImageNet\n",
        "base_model = VGG16(weights='imagenet', include_top=False, input_shape=(256, 256, 3))\n",
        "\n",
        "# Fine-tune the VGG16 model\n",
        "base_model.trainable = True\n",
        "\n",
        "# Set a lower learning rate for fine-tuning\n",
        "low_learning_rate = 0.0001\n",
        "optimizer = optimizers.Adam(learning_rate=low_learning_rate)\n",
        "\n",
        "# Create a new model on top of the fine-tuned VGG16 base model\n",
        "model = models.Sequential([\n",
        "    base_model,\n",
        "    layers.GlobalAveragePooling2D(),\n",
        "    layers.Dense(256, activation='relu'),\n",
        "    layers.BatchNormalization(),\n",
        "    layers.Dropout(0.5),\n",
        "    layers.Dense(128, activation='relu'),\n",
        "    layers.BatchNormalization(),\n",
        "    layers.Dropout(0.3),\n",
        "    layers.Dense(len(classes), activation='softmax')\n",
        "])\n",
        "\n",
        "# Compile the model\n",
        "model.compile(optimizer=optimizer,\n",
        "              loss='categorical_crossentropy',\n",
        "              metrics=['accuracy'])\n",
        "\n",
        "# Define callbacks\n",
        "callback_list = [\n",
        "    EarlyStopping(monitor=\"val_accuracy\", patience=10, restore_best_weights=True),\n",
        "    ReduceLROnPlateau(factor=0.8, monitor=\"val_accuracy\", patience=3)\n",
        "]\n",
        "\n",
        "# Print model summary\n",
        "model.summary()\n"
      ]
    },
    {
      "cell_type": "code",
      "execution_count": null,
      "id": "611e15b7-c941-4b4a-8b93-247ed6f44795",
      "metadata": {
        "id": "611e15b7-c941-4b4a-8b93-247ed6f44795"
      },
      "outputs": [],
      "source": [
        "# Train the VGG16 model\n",
        "history_vgg16 = vgg16_model.fit(\n",
        "    train_generator,\n",
        "    validation_data=validation_generator,\n",
        "    epochs=10,\n",
        "    verbose=1,\n",
        "    callbacks=callback_list\n",
        ")"
      ]
    },
    {
      "cell_type": "code",
      "execution_count": null,
      "id": "7b4dd722-a39e-4500-bb31-b8dba50ca2db",
      "metadata": {
        "id": "7b4dd722-a39e-4500-bb31-b8dba50ca2db"
      },
      "outputs": [],
      "source": [
        "acc_vgg16 = history_vgg16.history['accuracy']\n",
        "val_acc_vgg16 = history_vgg16.history['val_accuracy']\n",
        "loss_vgg16 = history_vgg16.history['loss']\n",
        "val_loss_vgg16 = history_vgg16.history['val_loss']\n",
        "\n",
        "epochs = range(len(acc))"
      ]
    },
    {
      "cell_type": "code",
      "execution_count": null,
      "id": "d15154b2-950f-413b-889a-e57af06bb3b8",
      "metadata": {
        "id": "d15154b2-950f-413b-889a-e57af06bb3b8"
      },
      "outputs": [],
      "source": [
        "plt.plot(epochs, acc_vgg16, 'ro', label='VGG16 Training accuracy')\n",
        "plt.plot(epochs, val_acc_vgg16, 'r', label='VGG16 Validation accuracy')\n",
        "plt.title('Training and validation accuracy')\n",
        "plt.legend()\n",
        "plt.figure()\n",
        "\n",
        "plt.plot(epochs, loss_vgg16, 'ro', label='VGG16 Training Loss')\n",
        "plt.plot(epochs, val_loss_vgg16, 'r', label='VGG16 Validation Loss')\n",
        "plt.title('Training and validation loss')\n",
        "plt.legend()\n",
        "plt.show()"
      ]
    },
    {
      "cell_type": "code",
      "execution_count": null,
      "id": "4d4eff33-2924-49d6-bb69-82fc38bdcd28",
      "metadata": {
        "id": "4d4eff33-2924-49d6-bb69-82fc38bdcd28"
      },
      "outputs": [],
      "source": [
        "vgg19_model.evaluate(testing_generator)"
      ]
    }
  ],
  "metadata": {
    "kernelspec": {
      "display_name": "Python 3 (ipykernel)",
      "language": "python",
      "name": "python3"
    },
    "language_info": {
      "codemirror_mode": {
        "name": "ipython",
        "version": 3
      },
      "file_extension": ".py",
      "mimetype": "text/x-python",
      "name": "python",
      "nbconvert_exporter": "python",
      "pygments_lexer": "ipython3",
      "version": "3.11.7"
    },
    "colab": {
      "provenance": [],
      "include_colab_link": true
    }
  },
  "nbformat": 4,
  "nbformat_minor": 5
}